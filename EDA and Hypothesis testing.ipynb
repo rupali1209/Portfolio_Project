{
 "cells": [
  {
   "cell_type": "code",
   "execution_count": 8,
   "id": "29e5c7ed",
   "metadata": {},
   "outputs": [],
   "source": [
    "import numpy as np\n",
    "import pandas as pd\n",
    "import seaborn as sns\n",
    "import matplotlib.pyplot as plt"
   ]
  },
  {
   "cell_type": "code",
   "execution_count": 2,
   "id": "bcad6b76",
   "metadata": {},
   "outputs": [],
   "source": [
    "df= pd.read_csv(\"insurance.csv\")"
   ]
  },
  {
   "cell_type": "code",
   "execution_count": 3,
   "id": "6896e94d",
   "metadata": {},
   "outputs": [
    {
     "data": {
      "text/plain": [
       "(986, 11)"
      ]
     },
     "execution_count": 3,
     "metadata": {},
     "output_type": "execute_result"
    }
   ],
   "source": [
    "df.shape"
   ]
  },
  {
   "cell_type": "code",
   "execution_count": 4,
   "id": "7d5cbadf",
   "metadata": {},
   "outputs": [
    {
     "data": {
      "text/html": [
       "<div>\n",
       "<style scoped>\n",
       "    .dataframe tbody tr th:only-of-type {\n",
       "        vertical-align: middle;\n",
       "    }\n",
       "\n",
       "    .dataframe tbody tr th {\n",
       "        vertical-align: top;\n",
       "    }\n",
       "\n",
       "    .dataframe thead th {\n",
       "        text-align: right;\n",
       "    }\n",
       "</style>\n",
       "<table border=\"1\" class=\"dataframe\">\n",
       "  <thead>\n",
       "    <tr style=\"text-align: right;\">\n",
       "      <th></th>\n",
       "      <th>Age</th>\n",
       "      <th>Diabetes</th>\n",
       "      <th>BloodPressureProblems</th>\n",
       "      <th>AnyTransplants</th>\n",
       "      <th>AnyChronicDiseases</th>\n",
       "      <th>Height</th>\n",
       "      <th>Weight</th>\n",
       "      <th>KnownAllergies</th>\n",
       "      <th>HistoryOfCancerInFamily</th>\n",
       "      <th>NumberOfMajorSurgeries</th>\n",
       "      <th>PremiumPrice</th>\n",
       "    </tr>\n",
       "  </thead>\n",
       "  <tbody>\n",
       "    <tr>\n",
       "      <th>0</th>\n",
       "      <td>45</td>\n",
       "      <td>0</td>\n",
       "      <td>0</td>\n",
       "      <td>0</td>\n",
       "      <td>0</td>\n",
       "      <td>155</td>\n",
       "      <td>57</td>\n",
       "      <td>0</td>\n",
       "      <td>0</td>\n",
       "      <td>0</td>\n",
       "      <td>25000</td>\n",
       "    </tr>\n",
       "    <tr>\n",
       "      <th>1</th>\n",
       "      <td>60</td>\n",
       "      <td>1</td>\n",
       "      <td>0</td>\n",
       "      <td>0</td>\n",
       "      <td>0</td>\n",
       "      <td>180</td>\n",
       "      <td>73</td>\n",
       "      <td>0</td>\n",
       "      <td>0</td>\n",
       "      <td>0</td>\n",
       "      <td>29000</td>\n",
       "    </tr>\n",
       "    <tr>\n",
       "      <th>2</th>\n",
       "      <td>36</td>\n",
       "      <td>1</td>\n",
       "      <td>1</td>\n",
       "      <td>0</td>\n",
       "      <td>0</td>\n",
       "      <td>158</td>\n",
       "      <td>59</td>\n",
       "      <td>0</td>\n",
       "      <td>0</td>\n",
       "      <td>1</td>\n",
       "      <td>23000</td>\n",
       "    </tr>\n",
       "    <tr>\n",
       "      <th>3</th>\n",
       "      <td>52</td>\n",
       "      <td>1</td>\n",
       "      <td>1</td>\n",
       "      <td>0</td>\n",
       "      <td>1</td>\n",
       "      <td>183</td>\n",
       "      <td>93</td>\n",
       "      <td>0</td>\n",
       "      <td>0</td>\n",
       "      <td>2</td>\n",
       "      <td>28000</td>\n",
       "    </tr>\n",
       "    <tr>\n",
       "      <th>4</th>\n",
       "      <td>38</td>\n",
       "      <td>0</td>\n",
       "      <td>0</td>\n",
       "      <td>0</td>\n",
       "      <td>1</td>\n",
       "      <td>166</td>\n",
       "      <td>88</td>\n",
       "      <td>0</td>\n",
       "      <td>0</td>\n",
       "      <td>1</td>\n",
       "      <td>23000</td>\n",
       "    </tr>\n",
       "  </tbody>\n",
       "</table>\n",
       "</div>"
      ],
      "text/plain": [
       "   Age  Diabetes  BloodPressureProblems  AnyTransplants  AnyChronicDiseases  \\\n",
       "0   45         0                      0               0                   0   \n",
       "1   60         1                      0               0                   0   \n",
       "2   36         1                      1               0                   0   \n",
       "3   52         1                      1               0                   1   \n",
       "4   38         0                      0               0                   1   \n",
       "\n",
       "   Height  Weight  KnownAllergies  HistoryOfCancerInFamily  \\\n",
       "0     155      57               0                        0   \n",
       "1     180      73               0                        0   \n",
       "2     158      59               0                        0   \n",
       "3     183      93               0                        0   \n",
       "4     166      88               0                        0   \n",
       "\n",
       "   NumberOfMajorSurgeries  PremiumPrice  \n",
       "0                       0         25000  \n",
       "1                       0         29000  \n",
       "2                       1         23000  \n",
       "3                       2         28000  \n",
       "4                       1         23000  "
      ]
     },
     "execution_count": 4,
     "metadata": {},
     "output_type": "execute_result"
    }
   ],
   "source": [
    "df.head()"
   ]
  },
  {
   "cell_type": "code",
   "execution_count": 5,
   "id": "d8b5b00c",
   "metadata": {},
   "outputs": [
    {
     "name": "stdout",
     "output_type": "stream",
     "text": [
      "<class 'pandas.core.frame.DataFrame'>\n",
      "RangeIndex: 986 entries, 0 to 985\n",
      "Data columns (total 11 columns):\n",
      " #   Column                   Non-Null Count  Dtype\n",
      "---  ------                   --------------  -----\n",
      " 0   Age                      986 non-null    int64\n",
      " 1   Diabetes                 986 non-null    int64\n",
      " 2   BloodPressureProblems    986 non-null    int64\n",
      " 3   AnyTransplants           986 non-null    int64\n",
      " 4   AnyChronicDiseases       986 non-null    int64\n",
      " 5   Height                   986 non-null    int64\n",
      " 6   Weight                   986 non-null    int64\n",
      " 7   KnownAllergies           986 non-null    int64\n",
      " 8   HistoryOfCancerInFamily  986 non-null    int64\n",
      " 9   NumberOfMajorSurgeries   986 non-null    int64\n",
      " 10  PremiumPrice             986 non-null    int64\n",
      "dtypes: int64(11)\n",
      "memory usage: 84.9 KB\n"
     ]
    }
   ],
   "source": [
    "df.info()"
   ]
  },
  {
   "cell_type": "code",
   "execution_count": 6,
   "id": "9091788b",
   "metadata": {},
   "outputs": [
    {
     "data": {
      "text/plain": [
       "Age                        0\n",
       "Diabetes                   0\n",
       "BloodPressureProblems      0\n",
       "AnyTransplants             0\n",
       "AnyChronicDiseases         0\n",
       "Height                     0\n",
       "Weight                     0\n",
       "KnownAllergies             0\n",
       "HistoryOfCancerInFamily    0\n",
       "NumberOfMajorSurgeries     0\n",
       "PremiumPrice               0\n",
       "dtype: int64"
      ]
     },
     "execution_count": 6,
     "metadata": {},
     "output_type": "execute_result"
    }
   ],
   "source": [
    "df.isnull().sum()"
   ]
  },
  {
   "cell_type": "code",
   "execution_count": 20,
   "id": "e2d732c5",
   "metadata": {},
   "outputs": [],
   "source": [
    "df['BMI']= np.round((df['Weight']/(df['Height']**2)*10000),2)"
   ]
  },
  {
   "cell_type": "code",
   "execution_count": 21,
   "id": "d1a7999e",
   "metadata": {},
   "outputs": [
    {
     "data": {
      "text/plain": [
       "15.16"
      ]
     },
     "execution_count": 21,
     "metadata": {},
     "output_type": "execute_result"
    }
   ],
   "source": [
    "df['BMI'].min()"
   ]
  },
  {
   "cell_type": "code",
   "execution_count": 22,
   "id": "5bc506ec",
   "metadata": {},
   "outputs": [
    {
     "data": {
      "text/plain": [
       "50.0"
      ]
     },
     "execution_count": 22,
     "metadata": {},
     "output_type": "execute_result"
    }
   ],
   "source": [
    "df['BMI'].max()"
   ]
  },
  {
   "cell_type": "markdown",
   "id": "42370fba",
   "metadata": {},
   "source": [
    "No nulls in the dataset"
   ]
  },
  {
   "cell_type": "code",
   "execution_count": 23,
   "id": "0aaaf279",
   "metadata": {},
   "outputs": [],
   "source": [
    "correlation_matrix=df.corr()"
   ]
  },
  {
   "cell_type": "code",
   "execution_count": 24,
   "id": "40cffcbf",
   "metadata": {},
   "outputs": [
    {
     "data": {
      "text/plain": [
       "Text(0.5, 1.0, 'Correlation Heatmap')"
      ]
     },
     "execution_count": 24,
     "metadata": {},
     "output_type": "execute_result"
    },
    {
     "data": {
      "image/png": "[encoded data removed]",
      "text/plain": [
       "<Figure size 1000x800 with 2 Axes>"
      ]
     },
     "metadata": {},
     "output_type": "display_data"
    }
   ],
   "source": [
    "plt.figure(figsize=(10, 8))\n",
    "heatmap = sns.heatmap(correlation_matrix, annot=True, cmap='coolwarm', fmt='.2f')\n",
    "heatmap.set_title('Correlation Heatmap')\n"
   ]
  },
  {
   "cell_type": "markdown",
   "id": "fa01168f",
   "metadata": {},
   "source": [
    "<h1>Heatmap insights<h1>\n",
    "\n",
    "\n",
    "<h3>We can see from above correlation heatmap that Premium Price is highly correlated to Age. 15-30% correlation observed with AnyTransplants, NumberofMajorSurgeries, Any Chronic disease, BPProblems and weight<h3>"
   ]
  },
  {
   "cell_type": "code",
   "execution_count": 12,
   "id": "e7179ada",
   "metadata": {},
   "outputs": [
    {
     "data": {
      "text/plain": [
       "<Axes: xlabel='Diabetes', ylabel='PremiumPrice'>"
      ]
     },
     "execution_count": 12,
     "metadata": {},
     "output_type": "execute_result"
    },
    {
     "data": {
      "image/png": "[encoded data removed]",
      "text/plain": [
       "<Figure size 640x480 with 1 Axes>"
      ]
     },
     "metadata": {},
     "output_type": "display_data"
    }
   ],
   "source": [
    "sns.boxplot(x= 'Diabetes', y='PremiumPrice', data= df)"
   ]
  },
  {
   "cell_type": "markdown",
   "id": "e558194b",
   "metadata": {},
   "source": [
    "<font size=\"5\"> Median premium is higher for people with Diabetes"
   ]
  },
  {
   "cell_type": "code",
   "execution_count": 15,
   "id": "72092fc2",
   "metadata": {},
   "outputs": [
    {
     "data": {
      "text/plain": [
       "<Axes: xlabel='AnyTransplants', ylabel='PremiumPrice'>"
      ]
     },
     "execution_count": 15,
     "metadata": {},
     "output_type": "execute_result"
    },
    {
     "data": {
      "image/png": "[encoded data removed]",
      "text/plain": [
       "<Figure size 640x480 with 1 Axes>"
      ]
     },
     "metadata": {},
     "output_type": "display_data"
    }
   ],
   "source": [
    "sns.boxplot(x= 'AnyTransplants', y='PremiumPrice', data= df)"
   ]
  },
  {
   "cell_type": "markdown",
   "id": "53787570",
   "metadata": {},
   "source": [
    "<font size=\"5\">Median premium is higher for people with Transplants"
   ]
  },
  {
   "cell_type": "code",
   "execution_count": 14,
   "id": "7cfbc958",
   "metadata": {},
   "outputs": [
    {
     "data": {
      "text/plain": [
       "Index(['Age', 'Diabetes', 'BloodPressureProblems', 'AnyTransplants',\n",
       "       'AnyChronicDiseases', 'Height', 'Weight', 'KnownAllergies',\n",
       "       'HistoryOfCancerInFamily', 'NumberOfMajorSurgeries', 'PremiumPrice'],\n",
       "      dtype='object')"
      ]
     },
     "execution_count": 14,
     "metadata": {},
     "output_type": "execute_result"
    }
   ],
   "source": [
    "df.columns"
   ]
  },
  {
   "cell_type": "code",
   "execution_count": 25,
   "id": "f9f88515",
   "metadata": {},
   "outputs": [
    {
     "data": {
      "text/plain": [
       "<Axes: xlabel='NumberOfMajorSurgeries', ylabel='PremiumPrice'>"
      ]
     },
     "execution_count": 25,
     "metadata": {},
     "output_type": "execute_result"
    },
    {
     "data": {
      "image/png": "[encoded data removed]",
      "text/plain": [
       "<Figure size 640x480 with 1 Axes>"
      ]
     },
     "metadata": {},
     "output_type": "display_data"
    }
   ],
   "source": [
    "sns.boxplot(x= 'NumberOfMajorSurgeries', y='PremiumPrice', data= df)"
   ]
  },
  {
   "cell_type": "markdown",
   "id": "eb8e9517",
   "metadata": {},
   "source": [
    "<font size=\"5\"> As the number of major surgeries increases the PremiumPrice increases"
   ]
  },
  {
   "cell_type": "code",
   "execution_count": 26,
   "id": "bb34a50f",
   "metadata": {},
   "outputs": [
    {
     "data": {
      "text/plain": [
       "NumberOfMajorSurgeries\n",
       "0    479\n",
       "1    372\n",
       "2    119\n",
       "3     16\n",
       "Name: count, dtype: int64"
      ]
     },
     "execution_count": 26,
     "metadata": {},
     "output_type": "execute_result"
    }
   ],
   "source": [
    "df.NumberOfMajorSurgeries.value_counts()"
   ]
  },
  {
   "cell_type": "code",
   "execution_count": 27,
   "id": "05e63d0c",
   "metadata": {},
   "outputs": [
    {
     "data": {
      "text/plain": [
       "<Axes: xlabel='AnyChronicDiseases', ylabel='PremiumPrice'>"
      ]
     },
     "execution_count": 27,
     "metadata": {},
     "output_type": "execute_result"
    },
    {
     "data": {
      "image/png": "[encoded data removed]",
      "text/plain": [
       "<Figure size 640x480 with 1 Axes>"
      ]
     },
     "metadata": {},
     "output_type": "display_data"
    }
   ],
   "source": [
    "sns.boxplot(x= 'AnyChronicDiseases', y='PremiumPrice', data= df)"
   ]
  },
  {
   "cell_type": "code",
   "execution_count": 28,
   "id": "42dadd45",
   "metadata": {},
   "outputs": [
    {
     "data": {
      "text/plain": [
       "<Axes: xlabel='BloodPressureProblems', ylabel='PremiumPrice'>"
      ]
     },
     "execution_count": 28,
     "metadata": {},
     "output_type": "execute_result"
    },
    {
     "data": {
      "image/png": "[encoded data removed]",
      "text/plain": [
       "<Figure size 640x480 with 1 Axes>"
      ]
     },
     "metadata": {},
     "output_type": "display_data"
    }
   ],
   "source": [
    "sns.boxplot(x= 'BloodPressureProblems', y='PremiumPrice', data= df)"
   ]
  },
  {
   "cell_type": "markdown",
   "id": "74c318f1",
   "metadata": {},
   "source": [
    "<font size=\"5\"> BP Problems result in high premium prices"
   ]
  },
  {
   "cell_type": "code",
   "execution_count": 29,
   "id": "9c069990",
   "metadata": {},
   "outputs": [
    {
     "data": {
      "text/plain": [
       "<Axes: xlabel='KnownAllergies', ylabel='PremiumPrice'>"
      ]
     },
     "execution_count": 29,
     "metadata": {},
     "output_type": "execute_result"
    },
    {
     "data": {
      "image/png": "[encoded data removed]",
      "text/plain": [
       "<Figure size 640x480 with 1 Axes>"
      ]
     },
     "metadata": {},
     "output_type": "display_data"
    }
   ],
   "source": [
    "sns.boxplot(x= 'KnownAllergies', y='PremiumPrice', data= df)"
   ]
  },
  {
   "cell_type": "markdown",
   "id": "c6aeb756",
   "metadata": {},
   "source": [
    "<font size=\"5\"> KnownAllergies doesn't have much impact on the premium"
   ]
  },
  {
   "cell_type": "markdown",
   "id": "833241bf",
   "metadata": {},
   "source": [
    "<h1> Outliers Identification using IQR method"
   ]
  },
  {
   "cell_type": "code",
   "execution_count": 40,
   "id": "b3fa0e64",
   "metadata": {},
   "outputs": [],
   "source": [
    "def find_outliers_iqr(df, column):\n",
    "    Q1 = df[column].quantile(0.25)\n",
    "    Q3 = df[column].quantile(0.75)\n",
    "    IQR = Q3 - Q1\n",
    "    lower_bound = Q1 - 1.5 * IQR\n",
    "    upper_bound = Q3 + 1.5 * IQR\n",
    "    return df[(df[column] < lower_bound) | (df[column] > upper_bound)]"
   ]
  },
  {
   "cell_type": "code",
   "execution_count": 41,
   "id": "4adaa68b",
   "metadata": {},
   "outputs": [
    {
     "name": "stdout",
     "output_type": "stream",
     "text": [
      "Outliers in 'age' using IQR method:\n",
      "Empty DataFrame\n",
      "Columns: [Age, Diabetes, BloodPressureProblems, AnyTransplants, AnyChronicDiseases, Height, Weight, KnownAllergies, HistoryOfCancerInFamily, NumberOfMajorSurgeries, PremiumPrice, BMI]\n",
      "Index: []\n"
     ]
    }
   ],
   "source": [
    "outliers_age = find_outliers_iqr(df, 'Age')\n",
    "print(\"Outliers in 'age' using IQR method:\")\n",
    "print(outliers_age)"
   ]
  },
  {
   "cell_type": "code",
   "execution_count": 54,
   "id": "fb1766da",
   "metadata": {},
   "outputs": [
    {
     "name": "stdout",
     "output_type": "stream",
     "text": [
      "Outliers in 'height' using IQR method:\n",
      "Empty DataFrame\n",
      "Columns: [Age, Diabetes, BloodPressureProblems, AnyTransplants, AnyChronicDiseases, Height, Weight, KnownAllergies, HistoryOfCancerInFamily, NumberOfMajorSurgeries, PremiumPrice, BMI]\n",
      "Index: []\n"
     ]
    }
   ],
   "source": [
    "outliers_height = find_outliers_iqr(df, 'Height')\n",
    "print(\"Outliers in 'height' using IQR method:\")\n",
    "print(outliers_height)"
   ]
  },
  {
   "cell_type": "code",
   "execution_count": 55,
   "id": "7f6566e4",
   "metadata": {},
   "outputs": [
    {
     "name": "stdout",
     "output_type": "stream",
     "text": [
      "Outliers in 'weight' using IQR method:\n",
      "     Age  Diabetes  BloodPressureProblems  AnyTransplants  AnyChronicDiseases  \\\n",
      "154   21         0                      0               0                   0   \n",
      "158   43         0                      0               0                   0   \n",
      "183   36         0                      0               0                   0   \n",
      "186   19         0                      0               0                   0   \n",
      "192   50         1                      0               0                   0   \n",
      "195   19         0                      0               0                   0   \n",
      "196   39         0                      1               0                   0   \n",
      "203   24         0                      1               0                   0   \n",
      "204   27         0                      1               0                   0   \n",
      "207   18         0                      0               0                   0   \n",
      "217   65         0                      1               0                   0   \n",
      "218   62         0                      1               1                   0   \n",
      "221   61         0                      1               0                   1   \n",
      "225   57         1                      0               0                   0   \n",
      "227   44         0                      0               0                   0   \n",
      "228   22         1                      1               0                   0   \n",
      "\n",
      "     Height  Weight  KnownAllergies  HistoryOfCancerInFamily  \\\n",
      "154     157     118               1                        0   \n",
      "158     158     121               0                        0   \n",
      "183     156     119               0                        0   \n",
      "186     173     129               1                        0   \n",
      "192     163     127               0                        0   \n",
      "195     164     132               0                        0   \n",
      "196     174     120               0                        0   \n",
      "203     173     128               0                        0   \n",
      "204     159     120               1                        1   \n",
      "207     172     123               0                        1   \n",
      "217     177     126               0                        0   \n",
      "218     164     121               1                        0   \n",
      "221     174     118               0                        0   \n",
      "225     160     128               0                        0   \n",
      "227     182     124               0                        1   \n",
      "228     166     122               0                        0   \n",
      "\n",
      "     NumberOfMajorSurgeries  PremiumPrice    BMI  \n",
      "154                       1         15000  47.87  \n",
      "158                       0         23000  48.47  \n",
      "183                       0         23000  48.90  \n",
      "186                       0         15000  43.10  \n",
      "192                       2         28000  47.80  \n",
      "195                       0         15000  49.08  \n",
      "196                       0         23000  39.64  \n",
      "203                       1         26000  42.77  \n",
      "204                       1         39000  47.47  \n",
      "207                       1         15000  41.58  \n",
      "217                       2         24000  40.22  \n",
      "218                       1         38000  44.99  \n",
      "221                       1         35000  38.97  \n",
      "225                       0         35000  50.00  \n",
      "227                       1         31000  37.44  \n",
      "228                       0         15000  44.27  \n"
     ]
    }
   ],
   "source": [
    "outliers_weight = find_outliers_iqr(df, 'Weight')\n",
    "print(\"Outliers in 'weight' using IQR method:\")\n",
    "print(outliers_weight)"
   ]
  },
  {
   "cell_type": "code",
   "execution_count": 51,
   "id": "5ddc8152",
   "metadata": {},
   "outputs": [],
   "source": [
    "key_variables = ['Height', 'Weight', 'PremiumPrice']\n"
   ]
  },
  {
   "cell_type": "code",
   "execution_count": 52,
   "id": "4f98f98c",
   "metadata": {},
   "outputs": [
    {
     "name": "stdout",
     "output_type": "stream",
     "text": [
      "Outliers in 'Height':\n",
      "Empty DataFrame\n",
      "Columns: [Age, Diabetes, BloodPressureProblems, AnyTransplants, AnyChronicDiseases, Height, Weight, KnownAllergies, HistoryOfCancerInFamily, NumberOfMajorSurgeries, PremiumPrice, BMI]\n",
      "Index: []\n",
      "Outliers in 'Weight':\n",
      "     Age  Diabetes  BloodPressureProblems  AnyTransplants  AnyChronicDiseases  \\\n",
      "154   21         0                      0               0                   0   \n",
      "158   43         0                      0               0                   0   \n",
      "183   36         0                      0               0                   0   \n",
      "186   19         0                      0               0                   0   \n",
      "192   50         1                      0               0                   0   \n",
      "195   19         0                      0               0                   0   \n",
      "196   39         0                      1               0                   0   \n",
      "203   24         0                      1               0                   0   \n",
      "204   27         0                      1               0                   0   \n",
      "207   18         0                      0               0                   0   \n",
      "217   65         0                      1               0                   0   \n",
      "218   62         0                      1               1                   0   \n",
      "221   61         0                      1               0                   1   \n",
      "225   57         1                      0               0                   0   \n",
      "227   44         0                      0               0                   0   \n",
      "228   22         1                      1               0                   0   \n",
      "\n",
      "     Height  Weight  KnownAllergies  HistoryOfCancerInFamily  \\\n",
      "154     157     118               1                        0   \n",
      "158     158     121               0                        0   \n",
      "183     156     119               0                        0   \n",
      "186     173     129               1                        0   \n",
      "192     163     127               0                        0   \n",
      "195     164     132               0                        0   \n",
      "196     174     120               0                        0   \n",
      "203     173     128               0                        0   \n",
      "204     159     120               1                        1   \n",
      "207     172     123               0                        1   \n",
      "217     177     126               0                        0   \n",
      "218     164     121               1                        0   \n",
      "221     174     118               0                        0   \n",
      "225     160     128               0                        0   \n",
      "227     182     124               0                        1   \n",
      "228     166     122               0                        0   \n",
      "\n",
      "     NumberOfMajorSurgeries  PremiumPrice    BMI  \n",
      "154                       1         15000  47.87  \n",
      "158                       0         23000  48.47  \n",
      "183                       0         23000  48.90  \n",
      "186                       0         15000  43.10  \n",
      "192                       2         28000  47.80  \n",
      "195                       0         15000  49.08  \n",
      "196                       0         23000  39.64  \n",
      "203                       1         26000  42.77  \n",
      "204                       1         39000  47.47  \n",
      "207                       1         15000  41.58  \n",
      "217                       2         24000  40.22  \n",
      "218                       1         38000  44.99  \n",
      "221                       1         35000  38.97  \n",
      "225                       0         35000  50.00  \n",
      "227                       1         31000  37.44  \n",
      "228                       0         15000  44.27  \n",
      "Outliers in 'PremiumPrice':\n",
      "     Age  Diabetes  BloodPressureProblems  AnyTransplants  AnyChronicDiseases  \\\n",
      "204   27         0                      1               0                   0   \n",
      "295   64         1                      1               0                   1   \n",
      "926   24         0                      1               0                   0   \n",
      "928   19         0                      0               0                   0   \n",
      "976   21         0                      1               0                   0   \n",
      "984   47         1                      1               0                   0   \n",
      "\n",
      "     Height  Weight  KnownAllergies  HistoryOfCancerInFamily  \\\n",
      "204     159     120               1                        1   \n",
      "295     163      91               0                        0   \n",
      "926     159      67               0                        0   \n",
      "928     171      67               0                        0   \n",
      "976     155      74               0                        0   \n",
      "984     158      73               1                        0   \n",
      "\n",
      "     NumberOfMajorSurgeries  PremiumPrice    BMI  \n",
      "204                       1         39000  47.47  \n",
      "295                       2         40000  34.25  \n",
      "926                       0         39000  26.50  \n",
      "928                       1         39000  22.91  \n",
      "976                       0         39000  30.80  \n",
      "984                       1         39000  29.24  \n"
     ]
    }
   ],
   "source": [
    "for column in key_variables:\n",
    "    outliers = find_outliers_iqr(df, column)\n",
    "    print(f\"Outliers in '{column}':\")\n",
    "    print(outliers)"
   ]
  },
  {
   "cell_type": "code",
   "execution_count": 50,
   "id": "55a6d4d8",
   "metadata": {},
   "outputs": [
    {
     "data": {
      "text/plain": [
       "PremiumPrice\n",
       "17000      1\n",
       "20000      1\n",
       "40000      1\n",
       "22000      1\n",
       "27000      1\n",
       "36000      2\n",
       "34000      2\n",
       "18000      2\n",
       "16000      3\n",
       "32000      4\n",
       "24000      4\n",
       "39000      5\n",
       "26000      7\n",
       "19000     15\n",
       "21000     26\n",
       "31000     31\n",
       "38000     34\n",
       "35000     41\n",
       "30000     47\n",
       "29000     72\n",
       "25000    103\n",
       "28000    132\n",
       "15000    202\n",
       "23000    249\n",
       "Name: count, dtype: int64"
      ]
     },
     "execution_count": 50,
     "metadata": {},
     "output_type": "execute_result"
    }
   ],
   "source": [
    "df['PremiumPrice'].value_counts().sort_values()"
   ]
  },
  {
   "cell_type": "code",
   "execution_count": 56,
   "id": "3e69872a",
   "metadata": {},
   "outputs": [
    {
     "data": {
      "text/plain": [
       "Index(['Age', 'Diabetes', 'BloodPressureProblems', 'AnyTransplants',\n",
       "       'AnyChronicDiseases', 'Height', 'Weight', 'KnownAllergies',\n",
       "       'HistoryOfCancerInFamily', 'NumberOfMajorSurgeries', 'PremiumPrice',\n",
       "       'BMI'],\n",
       "      dtype='object')"
      ]
     },
     "execution_count": 56,
     "metadata": {},
     "output_type": "execute_result"
    }
   ],
   "source": [
    "df.columns"
   ]
  },
  {
   "cell_type": "code",
   "execution_count": 66,
   "id": "b876fb12",
   "metadata": {},
   "outputs": [
    {
     "data": {
      "text/plain": [
       "<Axes: xlabel='PremiumPrice', ylabel='count'>"
      ]
     },
     "execution_count": 66,
     "metadata": {},
     "output_type": "execute_result"
    },
    {
     "data": {
      "image/png": "[encoded data removed]",
      "text/plain": [
       "<Figure size 1200x600 with 1 Axes>"
      ]
     },
     "metadata": {},
     "output_type": "display_data"
    }
   ],
   "source": [
    "plt.figure(figsize=(12, 6))\n",
    "sns.countplot(x=df['PremiumPrice']/1000)"
   ]
  },
  {
   "cell_type": "code",
   "execution_count": 72,
   "id": "296fb0cc",
   "metadata": {},
   "outputs": [
    {
     "data": {
      "text/plain": [
       "<Axes: xlabel='Weight', ylabel='count'>"
      ]
     },
     "execution_count": 72,
     "metadata": {},
     "output_type": "execute_result"
    },
    {
     "data": {
      "image/png": "[encoded data removed]",
      "text/plain": [
       "<Figure size 2500x500 with 1 Axes>"
      ]
     },
     "metadata": {},
     "output_type": "display_data"
    }
   ],
   "source": [
    "plt.figure(figsize=(25, 5))\n",
    "sns.countplot(x=df['Weight'])"
   ]
  },
  {
   "cell_type": "code",
   "execution_count": 73,
   "id": "ccf09300",
   "metadata": {},
   "outputs": [
    {
     "data": {
      "text/plain": [
       "<Axes: xlabel='Height', ylabel='count'>"
      ]
     },
     "execution_count": 73,
     "metadata": {},
     "output_type": "execute_result"
    },
    {
     "data": {
      "image/png": "[encoded data removed]",
      "text/plain": [
       "<Figure size 2500x500 with 1 Axes>"
      ]
     },
     "metadata": {},
     "output_type": "display_data"
    }
   ],
   "source": [
    "plt.figure(figsize=(25, 5))\n",
    "sns.countplot(x=df['Height'])"
   ]
  },
  {
   "cell_type": "markdown",
   "id": "1fd11111",
   "metadata": {},
   "source": [
    "<h1> Significance test"
   ]
  },
  {
   "cell_type": "markdown",
   "id": "3931603a",
   "metadata": {},
   "source": [
    "Null hypothesis - There is no significant difference in premium with or without the given condition\n",
    "Alternate hypothesis - There is significant difference in premium with or without the given condition"
   ]
  },
  {
   "cell_type": "code",
   "execution_count": 75,
   "id": "3796ecf0",
   "metadata": {},
   "outputs": [],
   "source": [
    "group_with_diabetes= df[df['Diabetes']==1]['PremiumPrice']\n",
    "group_without_diabetes= df[df['Diabetes']==0]['PremiumPrice']"
   ]
  },
  {
   "cell_type": "code",
   "execution_count": 76,
   "id": "5418efea",
   "metadata": {},
   "outputs": [],
   "source": [
    "import pandas as pd\n",
    "from scipy import stats"
   ]
  },
  {
   "cell_type": "code",
   "execution_count": 77,
   "id": "0bdd536b",
   "metadata": {},
   "outputs": [
    {
     "data": {
      "text/plain": [
       "TtestResult(statistic=2.3975629574233563, pvalue=0.016690091385306107, df=984.0)"
      ]
     },
     "execution_count": 77,
     "metadata": {},
     "output_type": "execute_result"
    }
   ],
   "source": [
    "stats.ttest_ind(group_with_diabetes, group_without_diabetes)"
   ]
  },
  {
   "cell_type": "markdown",
   "id": "1c1fab80",
   "metadata": {},
   "source": [
    "<font size=\"4\"> We can see that pvalue is <0.05. Hence, The group with and without diabetes have significant differences in premium prices. We reject null hypothesis"
   ]
  },
  {
   "cell_type": "code",
   "execution_count": 78,
   "id": "1a0cfcb1",
   "metadata": {},
   "outputs": [],
   "source": [
    "group_with_bp= df[df['BloodPressureProblems']==1]['PremiumPrice']\n",
    "group_without_bp= df[df['BloodPressureProblems']==0]['PremiumPrice']"
   ]
  },
  {
   "cell_type": "code",
   "execution_count": 79,
   "id": "490e141b",
   "metadata": {},
   "outputs": [
    {
     "data": {
      "text/plain": [
       "TtestResult(statistic=5.316365561489142, pvalue=1.3100497090721932e-07, df=984.0)"
      ]
     },
     "execution_count": 79,
     "metadata": {},
     "output_type": "execute_result"
    }
   ],
   "source": [
    "stats.ttest_ind(group_with_bp, group_without_bp)"
   ]
  },
  {
   "cell_type": "markdown",
   "id": "85b26166",
   "metadata": {},
   "source": [
    "<font size=\"4\"> Since pvalue< 0.05 hence, the group with and without BloodPressure Problems have significant differences in premium. We reject null hypothesis"
   ]
  },
  {
   "cell_type": "code",
   "execution_count": 80,
   "id": "1b6e4e01",
   "metadata": {},
   "outputs": [],
   "source": [
    "group_with_trans= df[df['AnyTransplants']==1]['PremiumPrice']\n",
    "group_without_trans= df[df['AnyTransplants']==0]['PremiumPrice']"
   ]
  },
  {
   "cell_type": "code",
   "execution_count": 81,
   "id": "c643f162",
   "metadata": {},
   "outputs": [
    {
     "data": {
      "text/plain": [
       "TtestResult(statistic=9.471654448151899, pvalue=1.9787295423632775e-20, df=984.0)"
      ]
     },
     "execution_count": 81,
     "metadata": {},
     "output_type": "execute_result"
    }
   ],
   "source": [
    "stats.ttest_ind(group_with_trans, group_without_trans)"
   ]
  },
  {
   "cell_type": "markdown",
   "id": "45782047",
   "metadata": {},
   "source": [
    "<font size=\"4\"> Since pvalue< 0.05 hence, the group with and without Any Transplants have significant differences in premium. We reject null hypothesis"
   ]
  },
  {
   "cell_type": "code",
   "execution_count": 82,
   "id": "709c79c9",
   "metadata": {},
   "outputs": [],
   "source": [
    "group_with_disease= df[df['AnyChronicDiseases']==1]['PremiumPrice']\n",
    "group_without_disease= df[df['AnyChronicDiseases']==0]['PremiumPrice']"
   ]
  },
  {
   "cell_type": "code",
   "execution_count": 83,
   "id": "c4e90a59",
   "metadata": {},
   "outputs": [
    {
     "data": {
      "text/plain": [
       "TtestResult(statistic=6.69104572734849, pvalue=3.713413765291482e-11, df=984.0)"
      ]
     },
     "execution_count": 83,
     "metadata": {},
     "output_type": "execute_result"
    }
   ],
   "source": [
    "stats.ttest_ind(group_with_disease, group_without_disease)"
   ]
  },
  {
   "cell_type": "markdown",
   "id": "fbbde3f8",
   "metadata": {},
   "source": [
    "<font size=\"4\"> Since pvalue< 0.05 hence, the group with and without Any Chronic Disease have significant differences in premium. We reject null hypothesis"
   ]
  },
  {
   "cell_type": "code",
   "execution_count": 84,
   "id": "e8f35f7e",
   "metadata": {},
   "outputs": [],
   "source": [
    "group_with_allergies= df[df['KnownAllergies']==1]['PremiumPrice']\n",
    "group_without_allergies= df[df['KnownAllergies']==0]['PremiumPrice']"
   ]
  },
  {
   "cell_type": "code",
   "execution_count": 85,
   "id": "302e90f6",
   "metadata": {},
   "outputs": [
    {
     "data": {
      "text/plain": [
       "TtestResult(statistic=0.3796775160044091, pvalue=0.7042667378180334, df=984.0)"
      ]
     },
     "execution_count": 85,
     "metadata": {},
     "output_type": "execute_result"
    }
   ],
   "source": [
    "stats.ttest_ind(group_with_allergies, group_without_allergies)"
   ]
  },
  {
   "cell_type": "markdown",
   "id": "3cba543f",
   "metadata": {},
   "source": [
    "<font size='4'> Since pvalue>0.05 hence, the group with or without allergies do not have significant differences in premium. We fail to reject the null hypothesis"
   ]
  },
  {
   "cell_type": "code",
   "execution_count": 86,
   "id": "78d81027",
   "metadata": {},
   "outputs": [],
   "source": [
    "group_with_cancer= df[df['HistoryOfCancerInFamily']==1]['PremiumPrice']\n",
    "group_without_cancer= df[df['HistoryOfCancerInFamily']==0]['PremiumPrice']"
   ]
  },
  {
   "cell_type": "code",
   "execution_count": 87,
   "id": "7153a643",
   "metadata": {},
   "outputs": [
    {
     "data": {
      "text/plain": [
       "TtestResult(statistic=2.617041984412821, pvalue=0.009005587310447026, df=984.0)"
      ]
     },
     "execution_count": 87,
     "metadata": {},
     "output_type": "execute_result"
    }
   ],
   "source": [
    "stats.ttest_ind(group_with_cancer, group_without_cancer)"
   ]
  },
  {
   "cell_type": "markdown",
   "id": "d4c8a839",
   "metadata": {},
   "source": [
    "<font size=\"4\"> Since pvalue< 0.05 hence, the group with and without Cancer history in the family have significant differences in premium. We reject null hypothesis"
   ]
  },
  {
   "cell_type": "code",
   "execution_count": 88,
   "id": "bcdb1d55",
   "metadata": {},
   "outputs": [
    {
     "data": {
      "text/plain": [
       "F_onewayResult(statistic=26.13539359740762, pvalue=2.8711631377228097e-16)"
      ]
     },
     "execution_count": 88,
     "metadata": {},
     "output_type": "execute_result"
    }
   ],
   "source": [
    "grouped_data = [df[df['NumberOfMajorSurgeries'] == i]['PremiumPrice'] for i in df['NumberOfMajorSurgeries'].unique()]\n",
    "stats.f_oneway(*grouped_data)"
   ]
  },
  {
   "cell_type": "markdown",
   "id": "69391d8b",
   "metadata": {},
   "source": [
    "<font size='4'> Since pvalue< 0.05 hence, the group with and without Number of Major Surgeries have significant differences in premium. We reject null hypothesis"
   ]
  },
  {
   "cell_type": "code",
   "execution_count": 100,
   "id": "728f3b6c",
   "metadata": {},
   "outputs": [],
   "source": [
    "group_with_surgeries= df[df['NumberOfMajorSurgeries']==1]['PremiumPrice']\n",
    "group_without_surgeries= df[df['NumberOfMajorSurgeries']==0]['PremiumPrice']"
   ]
  },
  {
   "cell_type": "code",
   "execution_count": 101,
   "id": "85eb822a",
   "metadata": {},
   "outputs": [
    {
     "data": {
      "text/plain": [
       "TtestResult(statistic=-5.497418991994781, pvalue=6.216602281341462e-08, df=489.0)"
      ]
     },
     "execution_count": 101,
     "metadata": {},
     "output_type": "execute_result"
    }
   ],
   "source": [
    "stats.ttest_ind(group_with_surgeries, group_without_surgeries)"
   ]
  },
  {
   "cell_type": "code",
   "execution_count": 102,
   "id": "2bc196e3",
   "metadata": {},
   "outputs": [],
   "source": [
    "contingency_table = pd.crosstab(df['Diabetes'], df['BloodPressureProblems'])"
   ]
  },
  {
   "cell_type": "code",
   "execution_count": 103,
   "id": "65e4d682",
   "metadata": {},
   "outputs": [
    {
     "data": {
      "text/plain": [
       "Chi2ContingencyResult(statistic=15.571225392078397, pvalue=7.945461025980538e-05, dof=1, expected_freq=array([[303.98377282, 268.01622718],\n",
       "       [220.01622718, 193.98377282]]))"
      ]
     },
     "execution_count": 103,
     "metadata": {},
     "output_type": "execute_result"
    }
   ],
   "source": [
    "from scipy.stats import chi2_contingency\n",
    "chi2_contingency(contingency_table)"
   ]
  },
  {
   "cell_type": "markdown",
   "id": "59c05725",
   "metadata": {},
   "source": [
    "<font size = '4'> Since p values< 0.05, there is a statistically significant association between Diabetes and BloodPressureProblems"
   ]
  },
  {
   "cell_type": "code",
   "execution_count": 105,
   "id": "aa7ba0ba",
   "metadata": {},
   "outputs": [
    {
     "data": {
      "text/plain": [
       "Index(['Age', 'Diabetes', 'BloodPressureProblems', 'AnyTransplants',\n",
       "       'AnyChronicDiseases', 'Height', 'Weight', 'KnownAllergies',\n",
       "       'HistoryOfCancerInFamily', 'NumberOfMajorSurgeries', 'PremiumPrice',\n",
       "       'BMI'],\n",
       "      dtype='object')"
      ]
     },
     "execution_count": 105,
     "metadata": {},
     "output_type": "execute_result"
    }
   ],
   "source": [
    "df.columns"
   ]
  },
  {
   "cell_type": "code",
   "execution_count": 106,
   "id": "febf3a7a",
   "metadata": {},
   "outputs": [],
   "source": [
    "contingency_table = pd.crosstab(df['AnyChronicDiseases'], df['HistoryOfCancerInFamily'])"
   ]
  },
  {
   "cell_type": "code",
   "execution_count": 107,
   "id": "2b7f861d",
   "metadata": {},
   "outputs": [
    {
     "data": {
      "text/plain": [
       "Chi2ContingencyResult(statistic=0.02062393388215223, pvalue=0.8858081638149811, dof=1, expected_freq=array([[712.94117647,  95.05882353],\n",
       "       [157.05882353,  20.94117647]]))"
      ]
     },
     "execution_count": 107,
     "metadata": {},
     "output_type": "execute_result"
    }
   ],
   "source": [
    "chi2_contingency(contingency_table)"
   ]
  },
  {
   "cell_type": "markdown",
   "id": "5c3e8a58",
   "metadata": {},
   "source": [
    "<font size= '4'> There is no statisctically significant association between Any Chronic Disease and History of Cancer in Family "
   ]
  },
  {
   "cell_type": "code",
   "execution_count": 109,
   "id": "705f0a7d",
   "metadata": {},
   "outputs": [
    {
     "data": {
      "text/plain": [
       "Chi2ContingencyResult(statistic=0.7205169893162533, pvalue=0.8683678631155989, dof=3, expected_freq=array([[452.28093306, 351.2494929 , 112.36206897,  15.10750507],\n",
       "       [ 26.71906694,  20.7505071 ,   6.63793103,   0.89249493]]))"
      ]
     },
     "execution_count": 109,
     "metadata": {},
     "output_type": "execute_result"
    }
   ],
   "source": [
    "contingency_table = pd.crosstab(df['AnyTransplants'], df['NumberOfMajorSurgeries'])\n",
    "chi2_contingency(contingency_table)"
   ]
  },
  {
   "cell_type": "markdown",
   "id": "e680bada",
   "metadata": {},
   "source": [
    "<font size= '4'> There is no statistically significant association between Any Transplants and Number of major surgeries"
   ]
  },
  {
   "cell_type": "code",
   "execution_count": 110,
   "id": "18d4113a",
   "metadata": {},
   "outputs": [
    {
     "data": {
      "text/plain": [
       "Chi2ContingencyResult(statistic=86.12341484802883, pvalue=1.4893488650667128e-18, dof=3, expected_freq=array([[254.55983773, 197.69574037,  63.24137931,   8.5030426 ],\n",
       "       [224.44016227, 174.30425963,  55.75862069,   7.4969574 ]]))"
      ]
     },
     "execution_count": 110,
     "metadata": {},
     "output_type": "execute_result"
    }
   ],
   "source": [
    "#BloodPressureProblems\n",
    "contingency_table = pd.crosstab(df['BloodPressureProblems'], df['NumberOfMajorSurgeries'])\n",
    "chi2_contingency(contingency_table)\n"
   ]
  },
  {
   "cell_type": "markdown",
   "id": "bb80b575",
   "metadata": {},
   "source": [
    "<font size= '4'> There is statistically significant association between Blood Pressure Problems and Number of major surgeries"
   ]
  },
  {
   "cell_type": "code",
   "execution_count": 111,
   "id": "e793ff35",
   "metadata": {},
   "outputs": [
    {
     "data": {
      "text/plain": [
       "Chi2ContingencyResult(statistic=0.39874887344149174, pvalue=0.5277360989921708, dof=1, expected_freq=array([[494.77079108,  29.22920892],\n",
       "       [436.22920892,  25.77079108]]))"
      ]
     },
     "execution_count": 111,
     "metadata": {},
     "output_type": "execute_result"
    }
   ],
   "source": [
    "contingency_table = pd.crosstab(df['BloodPressureProblems'], df['AnyTransplants'])\n",
    "chi2_contingency(contingency_table)\n"
   ]
  },
  {
   "cell_type": "markdown",
   "id": "0240b6a0",
   "metadata": {},
   "source": [
    "No statistically significant association between Blood Pressure Problems and Any Transplants"
   ]
  },
  {
   "cell_type": "code",
   "execution_count": 112,
   "id": "c53247d9",
   "metadata": {},
   "outputs": [
    {
     "data": {
      "text/plain": [
       "Chi2ContingencyResult(statistic=1.8046980449571972, pvalue=0.17914556026705178, dof=1, expected_freq=array([[429.40365112,  94.59634888],\n",
       "       [378.59634888,  83.40365112]]))"
      ]
     },
     "execution_count": 112,
     "metadata": {},
     "output_type": "execute_result"
    }
   ],
   "source": [
    "contingency_table = pd.crosstab(df['BloodPressureProblems'], df['AnyChronicDiseases'])\n",
    "chi2_contingency(contingency_table)"
   ]
  },
  {
   "cell_type": "markdown",
   "id": "23888a65",
   "metadata": {},
   "source": [
    "No statistically significant association between Blood Pressure Problems and Any Chronic Diseases"
   ]
  },
  {
   "cell_type": "code",
   "execution_count": 113,
   "id": "ec6783c8",
   "metadata": {},
   "outputs": [
    {
     "data": {
      "text/plain": [
       "Chi2ContingencyResult(statistic=2.0041718300783176, pvalue=0.1568669440083543, dof=1, expected_freq=array([[462.35294118,  61.64705882],\n",
       "       [407.64705882,  54.35294118]]))"
      ]
     },
     "execution_count": 113,
     "metadata": {},
     "output_type": "execute_result"
    }
   ],
   "source": [
    "contingency_table = pd.crosstab(df['BloodPressureProblems'], df['HistoryOfCancerInFamily'])\n",
    "chi2_contingency(contingency_table)"
   ]
  },
  {
   "cell_type": "markdown",
   "id": "c766cd69",
   "metadata": {},
   "source": [
    "No statistically significant association between Blood Pressure Problems and History of cancer in family"
   ]
  },
  {
   "cell_type": "code",
   "execution_count": 114,
   "id": "066d8820",
   "metadata": {},
   "outputs": [
    {
     "name": "stdout",
     "output_type": "stream",
     "text": [
      "<class 'pandas.core.frame.DataFrame'>\n",
      "RangeIndex: 986 entries, 0 to 985\n",
      "Data columns (total 12 columns):\n",
      " #   Column                   Non-Null Count  Dtype  \n",
      "---  ------                   --------------  -----  \n",
      " 0   Age                      986 non-null    int64  \n",
      " 1   Diabetes                 986 non-null    int64  \n",
      " 2   BloodPressureProblems    986 non-null    int64  \n",
      " 3   AnyTransplants           986 non-null    int64  \n",
      " 4   AnyChronicDiseases       986 non-null    int64  \n",
      " 5   Height                   986 non-null    int64  \n",
      " 6   Weight                   986 non-null    int64  \n",
      " 7   KnownAllergies           986 non-null    int64  \n",
      " 8   HistoryOfCancerInFamily  986 non-null    int64  \n",
      " 9   NumberOfMajorSurgeries   986 non-null    int64  \n",
      " 10  PremiumPrice             986 non-null    int64  \n",
      " 11  BMI                      986 non-null    float64\n",
      "dtypes: float64(1), int64(11)\n",
      "memory usage: 92.6 KB\n"
     ]
    }
   ],
   "source": [
    "df.info()"
   ]
  },
  {
   "cell_type": "code",
   "execution_count": 115,
   "id": "b2e5053a",
   "metadata": {},
   "outputs": [
    {
     "data": {
      "text/plain": [
       "Chi2ContingencyResult(statistic=0.8603776272400288, pvalue=0.35363303686928205, dof=1, expected_freq=array([[762.92900609, 168.07099391],\n",
       "       [ 45.07099391,   9.92900609]]))"
      ]
     },
     "execution_count": 115,
     "metadata": {},
     "output_type": "execute_result"
    }
   ],
   "source": [
    "contingency_table = pd.crosstab(df['AnyTransplants'], df['AnyChronicDiseases'])\n",
    "chi2_contingency(contingency_table)"
   ]
  },
  {
   "cell_type": "markdown",
   "id": "2c87f07d",
   "metadata": {},
   "source": [
    "<h1> Linear regression application to test hypotheses about the impact of various predictors on premium prices"
   ]
  },
  {
   "cell_type": "code",
   "execution_count": 116,
   "id": "99c79b9c",
   "metadata": {},
   "outputs": [],
   "source": [
    "from sklearn.linear_model import LinearRegression\n",
    "from sklearn.metrics import mean_squared_error, r2_score"
   ]
  },
  {
   "cell_type": "code",
   "execution_count": 117,
   "id": "961a3e45",
   "metadata": {},
   "outputs": [],
   "source": [
    "X = df[['Age', 'Diabetes', 'BloodPressureProblems', 'AnyTransplants', 'AnyChronicDiseases', \n",
    "        'Height', 'Weight', 'KnownAllergies', 'HistoryOfCancerInFamily', 'NumberOfMajorSurgeries']]\n",
    "y = df['PremiumPrice']"
   ]
  },
  {
   "cell_type": "code",
   "execution_count": 118,
   "id": "e8678035",
   "metadata": {},
   "outputs": [],
   "source": [
    "model= LinearRegression()"
   ]
  },
  {
   "cell_type": "code",
   "execution_count": 119,
   "id": "44478e96",
   "metadata": {},
   "outputs": [
    {
     "data": {
      "text/html": [
       "<style>#sk-container-id-1 {\n",
       "  /* Definition of color scheme common for light and dark mode */\n",
       "  --sklearn-color-text: black;\n",
       "  --sklearn-color-line: gray;\n",
       "  /* Definition of color scheme for unfitted estimators */\n",
       "  --sklearn-color-unfitted-level-0: #fff5e6;\n",
       "  --sklearn-color-unfitted-level-1: #f6e4d2;\n",
       "  --sklearn-color-unfitted-level-2: #ffe0b3;\n",
       "  --sklearn-color-unfitted-level-3: chocolate;\n",
       "  /* Definition of color scheme for fitted estimators */\n",
       "  --sklearn-color-fitted-level-0: #f0f8ff;\n",
       "  --sklearn-color-fitted-level-1: #d4ebff;\n",
       "  --sklearn-color-fitted-level-2: #b3dbfd;\n",
       "  --sklearn-color-fitted-level-3: cornflowerblue;\n",
       "\n",
       "  /* Specific color for light theme */\n",
       "  --sklearn-color-text-on-default-background: var(--sg-text-color, var(--theme-code-foreground, var(--jp-content-font-color1, black)));\n",
       "  --sklearn-color-background: var(--sg-background-color, var(--theme-background, var(--jp-layout-color0, white)));\n",
       "  --sklearn-color-border-box: var(--sg-text-color, var(--theme-code-foreground, var(--jp-content-font-color1, black)));\n",
       "  --sklearn-color-icon: #696969;\n",
       "\n",
       "  @media (prefers-color-scheme: dark) {\n",
       "    /* Redefinition of color scheme for dark theme */\n",
       "    --sklearn-color-text-on-default-background: var(--sg-text-color, var(--theme-code-foreground, var(--jp-content-font-color1, white)));\n",
       "    --sklearn-color-background: var(--sg-background-color, var(--theme-background, var(--jp-layout-color0, #111)));\n",
       "    --sklearn-color-border-box: var(--sg-text-color, var(--theme-code-foreground, var(--jp-content-font-color1, white)));\n",
       "    --sklearn-color-icon: #878787;\n",
       "  }\n",
       "}\n",
       "\n",
       "#sk-container-id-1 {\n",
       "  color: var(--sklearn-color-text);\n",
       "}\n",
       "\n",
       "#sk-container-id-1 pre {\n",
       "  padding: 0;\n",
       "}\n",
       "\n",
       "#sk-container-id-1 input.sk-hidden--visually {\n",
       "  border: 0;\n",
       "  clip: rect(1px 1px 1px 1px);\n",
       "  clip: rect(1px, 1px, 1px, 1px);\n",
       "  height: 1px;\n",
       "  margin: -1px;\n",
       "  overflow: hidden;\n",
       "  padding: 0;\n",
       "  position: absolute;\n",
       "  width: 1px;\n",
       "}\n",
       "\n",
       "#sk-container-id-1 div.sk-dashed-wrapped {\n",
       "  border: 1px dashed var(--sklearn-color-line);\n",
       "  margin: 0 0.4em 0.5em 0.4em;\n",
       "  box-sizing: border-box;\n",
       "  padding-bottom: 0.4em;\n",
       "  background-color: var(--sklearn-color-background);\n",
       "}\n",
       "\n",
       "#sk-container-id-1 div.sk-container {\n",
       "  /* jupyter's `normalize.less` sets `[hidden] { display: none; }`\n",
       "     but bootstrap.min.css set `[hidden] { display: none !important; }`\n",
       "     so we also need the `!important` here to be able to override the\n",
       "     default hidden behavior on the sphinx rendered scikit-learn.org.\n",
       "     See: https://github.com/scikit-learn/scikit-learn/issues/21755 */\n",
       "  display: inline-block !important;\n",
       "  position: relative;\n",
       "}\n",
       "\n",
       "#sk-container-id-1 div.sk-text-repr-fallback {\n",
       "  display: none;\n",
       "}\n",
       "\n",
       "div.sk-parallel-item,\n",
       "div.sk-serial,\n",
       "div.sk-item {\n",
       "  /* draw centered vertical line to link estimators */\n",
       "  background-image: linear-gradient(var(--sklearn-color-text-on-default-background), var(--sklearn-color-text-on-default-background));\n",
       "  background-size: 2px 100%;\n",
       "  background-repeat: no-repeat;\n",
       "  background-position: center center;\n",
       "}\n",
       "\n",
       "/* Parallel-specific style estimator block */\n",
       "\n",
       "#sk-container-id-1 div.sk-parallel-item::after {\n",
       "  content: \"\";\n",
       "  width: 100%;\n",
       "  border-bottom: 2px solid var(--sklearn-color-text-on-default-background);\n",
       "  flex-grow: 1;\n",
       "}\n",
       "\n",
       "#sk-container-id-1 div.sk-parallel {\n",
       "  display: flex;\n",
       "  align-items: stretch;\n",
       "  justify-content: center;\n",
       "  background-color: var(--sklearn-color-background);\n",
       "  position: relative;\n",
       "}\n",
       "\n",
       "#sk-container-id-1 div.sk-parallel-item {\n",
       "  display: flex;\n",
       "  flex-direction: column;\n",
       "}\n",
       "\n",
       "#sk-container-id-1 div.sk-parallel-item:first-child::after {\n",
       "  align-self: flex-end;\n",
       "  width: 50%;\n",
       "}\n",
       "\n",
       "#sk-container-id-1 div.sk-parallel-item:last-child::after {\n",
       "  align-self: flex-start;\n",
       "  width: 50%;\n",
       "}\n",
       "\n",
       "#sk-container-id-1 div.sk-parallel-item:only-child::after {\n",
       "  width: 0;\n",
       "}\n",
       "\n",
       "/* Serial-specific style estimator block */\n",
       "\n",
       "#sk-container-id-1 div.sk-serial {\n",
       "  display: flex;\n",
       "  flex-direction: column;\n",
       "  align-items: center;\n",
       "  background-color: var(--sklearn-color-background);\n",
       "  padding-right: 1em;\n",
       "  padding-left: 1em;\n",
       "}\n",
       "\n",
       "\n",
       "/* Toggleable style: style used for estimator/Pipeline/ColumnTransformer box that is\n",
       "clickable and can be expanded/collapsed.\n",
       "- Pipeline and ColumnTransformer use this feature and define the default style\n",
       "- Estimators will overwrite some part of the style using the `sk-estimator` class\n",
       "*/\n",
       "\n",
       "/* Pipeline and ColumnTransformer style (default) */\n",
       "\n",
       "#sk-container-id-1 div.sk-toggleable {\n",
       "  /* Default theme specific background. It is overwritten whether we have a\n",
       "  specific estimator or a Pipeline/ColumnTransformer */\n",
       "  background-color: var(--sklearn-color-background);\n",
       "}\n",
       "\n",
       "/* Toggleable label */\n",
       "#sk-container-id-1 label.sk-toggleable__label {\n",
       "  cursor: pointer;\n",
       "  display: block;\n",
       "  width: 100%;\n",
       "  margin-bottom: 0;\n",
       "  padding: 0.5em;\n",
       "  box-sizing: border-box;\n",
       "  text-align: center;\n",
       "}\n",
       "\n",
       "#sk-container-id-1 label.sk-toggleable__label-arrow:before {\n",
       "  /* Arrow on the left of the label */\n",
       "  content: \"▸\";\n",
       "  float: left;\n",
       "  margin-right: 0.25em;\n",
       "  color: var(--sklearn-color-icon);\n",
       "}\n",
       "\n",
       "#sk-container-id-1 label.sk-toggleable__label-arrow:hover:before {\n",
       "  color: var(--sklearn-color-text);\n",
       "}\n",
       "\n",
       "/* Toggleable content - dropdown */\n",
       "\n",
       "#sk-container-id-1 div.sk-toggleable__content {\n",
       "  max-height: 0;\n",
       "  max-width: 0;\n",
       "  overflow: hidden;\n",
       "  text-align: left;\n",
       "  /* unfitted */\n",
       "  background-color: var(--sklearn-color-unfitted-level-0);\n",
       "}\n",
       "\n",
       "#sk-container-id-1 div.sk-toggleable__content.fitted {\n",
       "  /* fitted */\n",
       "  background-color: var(--sklearn-color-fitted-level-0);\n",
       "}\n",
       "\n",
       "#sk-container-id-1 div.sk-toggleable__content pre {\n",
       "  margin: 0.2em;\n",
       "  border-radius: 0.25em;\n",
       "  color: var(--sklearn-color-text);\n",
       "  /* unfitted */\n",
       "  background-color: var(--sklearn-color-unfitted-level-0);\n",
       "}\n",
       "\n",
       "#sk-container-id-1 div.sk-toggleable__content.fitted pre {\n",
       "  /* unfitted */\n",
       "  background-color: var(--sklearn-color-fitted-level-0);\n",
       "}\n",
       "\n",
       "#sk-container-id-1 input.sk-toggleable__control:checked~div.sk-toggleable__content {\n",
       "  /* Expand drop-down */\n",
       "  max-height: 200px;\n",
       "  max-width: 100%;\n",
       "  overflow: auto;\n",
       "}\n",
       "\n",
       "#sk-container-id-1 input.sk-toggleable__control:checked~label.sk-toggleable__label-arrow:before {\n",
       "  content: \"▾\";\n",
       "}\n",
       "\n",
       "/* Pipeline/ColumnTransformer-specific style */\n",
       "\n",
       "#sk-container-id-1 div.sk-label input.sk-toggleable__control:checked~label.sk-toggleable__label {\n",
       "  color: var(--sklearn-color-text);\n",
       "  background-color: var(--sklearn-color-unfitted-level-2);\n",
       "}\n",
       "\n",
       "#sk-container-id-1 div.sk-label.fitted input.sk-toggleable__control:checked~label.sk-toggleable__label {\n",
       "  background-color: var(--sklearn-color-fitted-level-2);\n",
       "}\n",
       "\n",
       "/* Estimator-specific style */\n",
       "\n",
       "/* Colorize estimator box */\n",
       "#sk-container-id-1 div.sk-estimator input.sk-toggleable__control:checked~label.sk-toggleable__label {\n",
       "  /* unfitted */\n",
       "  background-color: var(--sklearn-color-unfitted-level-2);\n",
       "}\n",
       "\n",
       "#sk-container-id-1 div.sk-estimator.fitted input.sk-toggleable__control:checked~label.sk-toggleable__label {\n",
       "  /* fitted */\n",
       "  background-color: var(--sklearn-color-fitted-level-2);\n",
       "}\n",
       "\n",
       "#sk-container-id-1 div.sk-label label.sk-toggleable__label,\n",
       "#sk-container-id-1 div.sk-label label {\n",
       "  /* The background is the default theme color */\n",
       "  color: var(--sklearn-color-text-on-default-background);\n",
       "}\n",
       "\n",
       "/* On hover, darken the color of the background */\n",
       "#sk-container-id-1 div.sk-label:hover label.sk-toggleable__label {\n",
       "  color: var(--sklearn-color-text);\n",
       "  background-color: var(--sklearn-color-unfitted-level-2);\n",
       "}\n",
       "\n",
       "/* Label box, darken color on hover, fitted */\n",
       "#sk-container-id-1 div.sk-label.fitted:hover label.sk-toggleable__label.fitted {\n",
       "  color: var(--sklearn-color-text);\n",
       "  background-color: var(--sklearn-color-fitted-level-2);\n",
       "}\n",
       "\n",
       "/* Estimator label */\n",
       "\n",
       "#sk-container-id-1 div.sk-label label {\n",
       "  font-family: monospace;\n",
       "  font-weight: bold;\n",
       "  display: inline-block;\n",
       "  line-height: 1.2em;\n",
       "}\n",
       "\n",
       "#sk-container-id-1 div.sk-label-container {\n",
       "  text-align: center;\n",
       "}\n",
       "\n",
       "/* Estimator-specific */\n",
       "#sk-container-id-1 div.sk-estimator {\n",
       "  font-family: monospace;\n",
       "  border: 1px dotted var(--sklearn-color-border-box);\n",
       "  border-radius: 0.25em;\n",
       "  box-sizing: border-box;\n",
       "  margin-bottom: 0.5em;\n",
       "  /* unfitted */\n",
       "  background-color: var(--sklearn-color-unfitted-level-0);\n",
       "}\n",
       "\n",
       "#sk-container-id-1 div.sk-estimator.fitted {\n",
       "  /* fitted */\n",
       "  background-color: var(--sklearn-color-fitted-level-0);\n",
       "}\n",
       "\n",
       "/* on hover */\n",
       "#sk-container-id-1 div.sk-estimator:hover {\n",
       "  /* unfitted */\n",
       "  background-color: var(--sklearn-color-unfitted-level-2);\n",
       "}\n",
       "\n",
       "#sk-container-id-1 div.sk-estimator.fitted:hover {\n",
       "  /* fitted */\n",
       "  background-color: var(--sklearn-color-fitted-level-2);\n",
       "}\n",
       "\n",
       "/* Specification for estimator info (e.g. \"i\" and \"?\") */\n",
       "\n",
       "/* Common style for \"i\" and \"?\" */\n",
       "\n",
       ".sk-estimator-doc-link,\n",
       "a:link.sk-estimator-doc-link,\n",
       "a:visited.sk-estimator-doc-link {\n",
       "  float: right;\n",
       "  font-size: smaller;\n",
       "  line-height: 1em;\n",
       "  font-family: monospace;\n",
       "  background-color: var(--sklearn-color-background);\n",
       "  border-radius: 1em;\n",
       "  height: 1em;\n",
       "  width: 1em;\n",
       "  text-decoration: none !important;\n",
       "  margin-left: 1ex;\n",
       "  /* unfitted */\n",
       "  border: var(--sklearn-color-unfitted-level-1) 1pt solid;\n",
       "  color: var(--sklearn-color-unfitted-level-1);\n",
       "}\n",
       "\n",
       ".sk-estimator-doc-link.fitted,\n",
       "a:link.sk-estimator-doc-link.fitted,\n",
       "a:visited.sk-estimator-doc-link.fitted {\n",
       "  /* fitted */\n",
       "  border: var(--sklearn-color-fitted-level-1) 1pt solid;\n",
       "  color: var(--sklearn-color-fitted-level-1);\n",
       "}\n",
       "\n",
       "/* On hover */\n",
       "div.sk-estimator:hover .sk-estimator-doc-link:hover,\n",
       ".sk-estimator-doc-link:hover,\n",
       "div.sk-label-container:hover .sk-estimator-doc-link:hover,\n",
       ".sk-estimator-doc-link:hover {\n",
       "  /* unfitted */\n",
       "  background-color: var(--sklearn-color-unfitted-level-3);\n",
       "  color: var(--sklearn-color-background);\n",
       "  text-decoration: none;\n",
       "}\n",
       "\n",
       "div.sk-estimator.fitted:hover .sk-estimator-doc-link.fitted:hover,\n",
       ".sk-estimator-doc-link.fitted:hover,\n",
       "div.sk-label-container:hover .sk-estimator-doc-link.fitted:hover,\n",
       ".sk-estimator-doc-link.fitted:hover {\n",
       "  /* fitted */\n",
       "  background-color: var(--sklearn-color-fitted-level-3);\n",
       "  color: var(--sklearn-color-background);\n",
       "  text-decoration: none;\n",
       "}\n",
       "\n",
       "/* Span, style for the box shown on hovering the info icon */\n",
       ".sk-estimator-doc-link span {\n",
       "  display: none;\n",
       "  z-index: 9999;\n",
       "  position: relative;\n",
       "  font-weight: normal;\n",
       "  right: .2ex;\n",
       "  padding: .5ex;\n",
       "  margin: .5ex;\n",
       "  width: min-content;\n",
       "  min-width: 20ex;\n",
       "  max-width: 50ex;\n",
       "  color: var(--sklearn-color-text);\n",
       "  box-shadow: 2pt 2pt 4pt #999;\n",
       "  /* unfitted */\n",
       "  background: var(--sklearn-color-unfitted-level-0);\n",
       "  border: .5pt solid var(--sklearn-color-unfitted-level-3);\n",
       "}\n",
       "\n",
       ".sk-estimator-doc-link.fitted span {\n",
       "  /* fitted */\n",
       "  background: var(--sklearn-color-fitted-level-0);\n",
       "  border: var(--sklearn-color-fitted-level-3);\n",
       "}\n",
       "\n",
       ".sk-estimator-doc-link:hover span {\n",
       "  display: block;\n",
       "}\n",
       "\n",
       "/* \"?\"-specific style due to the `<a>` HTML tag */\n",
       "\n",
       "#sk-container-id-1 a.estimator_doc_link {\n",
       "  float: right;\n",
       "  font-size: 1rem;\n",
       "  line-height: 1em;\n",
       "  font-family: monospace;\n",
       "  background-color: var(--sklearn-color-background);\n",
       "  border-radius: 1rem;\n",
       "  height: 1rem;\n",
       "  width: 1rem;\n",
       "  text-decoration: none;\n",
       "  /* unfitted */\n",
       "  color: var(--sklearn-color-unfitted-level-1);\n",
       "  border: var(--sklearn-color-unfitted-level-1) 1pt solid;\n",
       "}\n",
       "\n",
       "#sk-container-id-1 a.estimator_doc_link.fitted {\n",
       "  /* fitted */\n",
       "  border: var(--sklearn-color-fitted-level-1) 1pt solid;\n",
       "  color: var(--sklearn-color-fitted-level-1);\n",
       "}\n",
       "\n",
       "/* On hover */\n",
       "#sk-container-id-1 a.estimator_doc_link:hover {\n",
       "  /* unfitted */\n",
       "  background-color: var(--sklearn-color-unfitted-level-3);\n",
       "  color: var(--sklearn-color-background);\n",
       "  text-decoration: none;\n",
       "}\n",
       "\n",
       "#sk-container-id-1 a.estimator_doc_link.fitted:hover {\n",
       "  /* fitted */\n",
       "  background-color: var(--sklearn-color-fitted-level-3);\n",
       "}\n",
       "</style><div id=\"sk-container-id-1\" class=\"sk-top-container\"><div class=\"sk-text-repr-fallback\"><pre>LinearRegression()</pre><b>In a Jupyter environment, please rerun this cell to show the HTML representation or trust the notebook. <br />On GitHub, the HTML representation is unable to render, please try loading this page with nbviewer.org.</b></div><div class=\"sk-container\" hidden><div class=\"sk-item\"><div class=\"sk-estimator fitted sk-toggleable\"><input class=\"sk-toggleable__control sk-hidden--visually\" id=\"sk-estimator-id-1\" type=\"checkbox\" checked><label for=\"sk-estimator-id-1\" class=\"sk-toggleable__label fitted sk-toggleable__label-arrow fitted\">&nbsp;&nbsp;LinearRegression<a class=\"sk-estimator-doc-link fitted\" rel=\"noreferrer\" target=\"_blank\" href=\"https://scikit-learn.org/1.5/modules/generated/sklearn.linear_model.LinearRegression.html\">?<span>Documentation for LinearRegression</span></a><span class=\"sk-estimator-doc-link fitted\">i<span>Fitted</span></span></label><div class=\"sk-toggleable__content fitted\"><pre>LinearRegression()</pre></div> </div></div></div></div>"
      ],
      "text/plain": [
       "LinearRegression()"
      ]
     },
     "execution_count": 119,
     "metadata": {},
     "output_type": "execute_result"
    }
   ],
   "source": [
    "model.fit(X,y)"
   ]
  },
  {
   "cell_type": "code",
   "execution_count": 120,
   "id": "e8bf0a80",
   "metadata": {},
   "outputs": [],
   "source": [
    "y_pred= model.predict(X)"
   ]
  },
  {
   "cell_type": "code",
   "execution_count": 121,
   "id": "9cf49a4e",
   "metadata": {},
   "outputs": [
    {
     "data": {
      "text/plain": [
       "array([ 3.29367129e+02, -4.29119839e+02,  1.80503577e+02,  7.89420126e+03,\n",
       "        2.65488642e+03, -5.82187848e+00,  6.96753277e+01,  3.00882400e+02,\n",
       "        2.31182937e+03, -6.54186239e+02])"
      ]
     },
     "execution_count": 121,
     "metadata": {},
     "output_type": "execute_result"
    }
   ],
   "source": [
    "model.coef_"
   ]
  },
  {
   "cell_type": "code",
   "execution_count": 122,
   "id": "2e1dc641",
   "metadata": {},
   "outputs": [
    {
     "data": {
      "text/plain": [
       "5480.609844772527"
      ]
     },
     "execution_count": 122,
     "metadata": {},
     "output_type": "execute_result"
    }
   ],
   "source": [
    "model.intercept_"
   ]
  },
  {
   "cell_type": "code",
   "execution_count": 123,
   "id": "b6af1ea6",
   "metadata": {},
   "outputs": [
    {
     "name": "stdout",
     "output_type": "stream",
     "text": [
      "Mean squared error: 13926506.103989717\n",
      "Coefficient of determination (R^2): 0.6429120588329549\n"
     ]
    }
   ],
   "source": [
    "print(f\"Mean squared error: {mean_squared_error(y, y_pred)}\")\n",
    "print(f\"Coefficient of determination (R^2): {r2_score(y, y_pred)}\")"
   ]
  },
  {
   "cell_type": "markdown",
   "id": "97534ad3",
   "metadata": {},
   "source": []
  }
 ],
 "metadata": {
  "kernelspec": {
   "display_name": "Python 3 (ipykernel)",
   "language": "python",
   "name": "python3"
  },
  "language_info": {
   "codemirror_mode": {
    "name": "ipython",
    "version": 3
   },
   "file_extension": ".py",
   "mimetype": "text/x-python",
   "name": "python",
   "nbconvert_exporter": "python",
   "pygments_lexer": "ipython3",
   "version": "3.11.5"
  }
 },
 "nbformat": 4,
 "nbformat_minor": 5
}
